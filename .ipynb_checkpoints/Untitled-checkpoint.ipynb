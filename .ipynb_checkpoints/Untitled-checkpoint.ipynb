{
 "cells": [
  {
   "cell_type": "code",
   "execution_count": 7,
   "metadata": {},
   "outputs": [
    {
     "name": "stdout",
     "output_type": "stream",
     "text": [
      "Elapsed time during the whole program in seconds: 2.162430422\n"
     ]
    }
   ],
   "source": [
    "import multiprocessing as mp\n",
    "\n",
    "import numpy as np\n",
    "from test import worker, howmany_within_range\n",
    "from time import time, process_time\n",
    "\n",
    "t_start = process_time()\n",
    "\n",
    "if __name__ ==  '__main__': \n",
    "    num_processors = 3 \n",
    "    pool = mp.Pool(processes = num_processors)\n",
    "    output = pool.map(worker,[i for i in range(0,10000000)])\n",
    "#      print(output)\n",
    "     p.close()\n",
    "\n",
    "t_stop = process_time()\n",
    "print(\"Elapsed time during the whole program in seconds:\", t_stop-t_start)"
   ]
  },
  {
   "cell_type": "code",
   "execution_count": 9,
   "metadata": {},
   "outputs": [
    {
     "name": "stdout",
     "output_type": "stream",
     "text": [
      "Number of Processors:  4\n",
      "Elapsed time during the whole program in seconds: 14.142204490000001\n",
      "[3, 4, 3, 3, 3, 1, 4, 2, 2, 1]\n"
     ]
    }
   ],
   "source": [
    "# Prepare data\n",
    "np.random.RandomState(100)\n",
    "arr = np.random.randint(0, 10, size=[200000, 5])\n",
    "data = arr.tolist()\n",
    "data[:5]\n",
    "\n",
    "if __name__ ==  '__main__': \n",
    "    # Step 1: Init multiprocessing.Pool()\n",
    "    # pool = mp.Pool(mp.cpu_count())\n",
    "    pool = mp.Pool(1)\n",
    "    print(\"Number of Processors: \", mp.cpu_count())\n",
    "    t_start = process_time()\n",
    "    # Step 2: `pool.apply` the `howmany_within_range()`\n",
    "    results = [pool.apply(howmany_within_range, args=(row, 4, 8)) for row in data]\n",
    "    t_stop = process_time()\n",
    "    print(\"Elapsed time during the whole program in seconds:\", t_stop-t_start)\n",
    "    # Step 3: Don't forget to close\n",
    "    pool.close()    \n",
    "\n",
    "print(results[:10])\n",
    "#> [3, 1, 4, 4, 4, 2, 1, 1, 3, 3]"
   ]
  },
  {
   "cell_type": "code",
   "execution_count": null,
   "metadata": {},
   "outputs": [],
   "source": []
  },
  {
   "cell_type": "code",
   "execution_count": null,
   "metadata": {},
   "outputs": [],
   "source": []
  }
 ],
 "metadata": {
  "kernelspec": {
   "display_name": "Python 3",
   "language": "python",
   "name": "python3"
  },
  "language_info": {
   "codemirror_mode": {
    "name": "ipython",
    "version": 3
   },
   "file_extension": ".py",
   "mimetype": "text/x-python",
   "name": "python",
   "nbconvert_exporter": "python",
   "pygments_lexer": "ipython3",
   "version": "3.7.4"
  }
 },
 "nbformat": 4,
 "nbformat_minor": 4
}
